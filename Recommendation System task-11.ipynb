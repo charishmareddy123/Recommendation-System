{
 "cells": [
  {
   "cell_type": "markdown",
   "id": "77019095-2220-4158-83d0-3bde0ae71466",
   "metadata": {},
   "source": [
    "# Recommendation System\n"
   ]
  },
  {
   "cell_type": "markdown",
   "id": "22ab2e56-b91d-452c-b735-919d830c6feb",
   "metadata": {},
   "source": [
    "# Tasks:\n"
   ]
  },
  {
   "cell_type": "markdown",
   "id": "dcfe4e76-0b42-4020-97e5-d5caf589e06f",
   "metadata": {},
   "source": [
    "## Data Preprocessing:"
   ]
  },
  {
   "cell_type": "code",
   "execution_count": 1,
   "id": "e9df8d29-9c5e-4028-82f9-8a4505fcc24c",
   "metadata": {},
   "outputs": [],
   "source": [
    "import pandas as pd"
   ]
  },
  {
   "cell_type": "code",
   "execution_count": 3,
   "id": "f183db97-68ab-402b-b15a-ff4bc2f63b68",
   "metadata": {},
   "outputs": [],
   "source": [
    "# Load the dataset\n",
    "anime_df = pd.read_csv(\"anime.csv\")"
   ]
  },
  {
   "cell_type": "code",
   "execution_count": 5,
   "id": "817a0484-39b2-44b7-81a0-1c3effee4b57",
   "metadata": {},
   "outputs": [
    {
     "name": "stdout",
     "output_type": "stream",
     "text": [
      "Initial Data Overview:\n",
      "<class 'pandas.core.frame.DataFrame'>\n",
      "RangeIndex: 12294 entries, 0 to 12293\n",
      "Data columns (total 7 columns):\n",
      " #   Column    Non-Null Count  Dtype  \n",
      "---  ------    --------------  -----  \n",
      " 0   anime_id  12294 non-null  int64  \n",
      " 1   name      12294 non-null  object \n",
      " 2   genre     12232 non-null  object \n",
      " 3   type      12269 non-null  object \n",
      " 4   episodes  12294 non-null  object \n",
      " 5   rating    12064 non-null  float64\n",
      " 6   members   12294 non-null  int64  \n",
      "dtypes: float64(1), int64(2), object(4)\n",
      "memory usage: 672.5+ KB\n",
      "None\n",
      "\n",
      "Sample Data:\n",
      "   anime_id                              name  \\\n",
      "0     32281                    Kimi no Na wa.   \n",
      "1      5114  Fullmetal Alchemist: Brotherhood   \n",
      "2     28977                          Gintama°   \n",
      "3      9253                       Steins;Gate   \n",
      "4      9969                     Gintama&#039;   \n",
      "\n",
      "                                               genre   type episodes  rating  \\\n",
      "0               Drama, Romance, School, Supernatural  Movie        1    9.37   \n",
      "1  Action, Adventure, Drama, Fantasy, Magic, Mili...     TV       64    9.26   \n",
      "2  Action, Comedy, Historical, Parody, Samurai, S...     TV       51    9.25   \n",
      "3                                   Sci-Fi, Thriller     TV       24    9.17   \n",
      "4  Action, Comedy, Historical, Parody, Samurai, S...     TV       51    9.16   \n",
      "\n",
      "   members  \n",
      "0   200630  \n",
      "1   793665  \n",
      "2   114262  \n",
      "3   673572  \n",
      "4   151266  \n"
     ]
    }
   ],
   "source": [
    "# Display basic information\n",
    "print(\"Initial Data Overview:\")\n",
    "print(anime_df.info())\n",
    "print(\"\\nSample Data:\")\n",
    "print(anime_df.head())"
   ]
  },
  {
   "cell_type": "code",
   "execution_count": 7,
   "id": "351ef6b2-515c-4d47-a186-2d858266bfda",
   "metadata": {},
   "outputs": [],
   "source": [
    "# Handle missing values\n",
    "# Fill missing 'genre' and 'type' with 'Unknown'\n",
    "anime_df['genre'] = anime_df['genre'].fillna('Unknown')\n",
    "anime_df['type'] = anime_df['type'].fillna('Unknown')"
   ]
  },
  {
   "cell_type": "code",
   "execution_count": 9,
   "id": "128361ee-c954-4249-82ef-a78e259c9a60",
   "metadata": {},
   "outputs": [],
   "source": [
    "# Convert 'episodes' to numeric, replacing 'Unknown' or non-numeric with NaN, then fill with median or 0\n",
    "anime_df['episodes'] = pd.to_numeric(anime_df['episodes'], errors='coerce')\n",
    "anime_df['episodes'] = anime_df['episodes'].fillna(anime_df['episodes'].median()) "
   ]
  },
  {
   "cell_type": "code",
   "execution_count": 11,
   "id": "c8a01639-b019-412d-8d7d-cf480a6972b7",
   "metadata": {},
   "outputs": [],
   "source": [
    "# Handle missing ratings (can fill with mean, median, or drop)\n",
    "anime_df['rating'] = anime_df['rating'].fillna(anime_df['rating'].mean())"
   ]
  },
  {
   "cell_type": "code",
   "execution_count": 13,
   "id": "f8ac753f-5538-4326-a4c7-1af7f82e8e6e",
   "metadata": {},
   "outputs": [
    {
     "name": "stdout",
     "output_type": "stream",
     "text": [
      "\n",
      "Cleaned Data Overview:\n",
      "<class 'pandas.core.frame.DataFrame'>\n",
      "RangeIndex: 12294 entries, 0 to 12293\n",
      "Data columns (total 7 columns):\n",
      " #   Column    Non-Null Count  Dtype  \n",
      "---  ------    --------------  -----  \n",
      " 0   anime_id  12294 non-null  int64  \n",
      " 1   name      12294 non-null  object \n",
      " 2   genre     12294 non-null  object \n",
      " 3   type      12294 non-null  object \n",
      " 4   episodes  12294 non-null  float64\n",
      " 5   rating    12294 non-null  float64\n",
      " 6   members   12294 non-null  int64  \n",
      "dtypes: float64(2), int64(2), object(3)\n",
      "memory usage: 672.5+ KB\n",
      "None\n"
     ]
    }
   ],
   "source": [
    "# Confirm cleaned data\n",
    "print(\"\\nCleaned Data Overview:\")\n",
    "print(anime_df.info())"
   ]
  },
  {
   "cell_type": "markdown",
   "id": "87ba5ab3-f54f-458b-acb5-660c438121d0",
   "metadata": {},
   "source": [
    "## Feature Extraction:\n"
   ]
  },
  {
   "cell_type": "code",
   "execution_count": 15,
   "id": "38e1174e-9262-48bd-9441-689241154fd1",
   "metadata": {},
   "outputs": [],
   "source": [
    "from sklearn.preprocessing import MultiLabelBinarizer, OneHotEncoder, MinMaxScaler\n",
    "from sklearn.compose import ColumnTransformer\n",
    "from sklearn.pipeline import Pipeline\n",
    "from sklearn.preprocessing import FunctionTransformer\n",
    "import numpy as np"
   ]
  },
  {
   "cell_type": "code",
   "execution_count": 17,
   "id": "3a93f943-701c-4e46-b37e-ce1ea6fb2969",
   "metadata": {},
   "outputs": [],
   "source": [
    "# 1. Genre splitting (multi-label)\n",
    "anime_df['genre'] = anime_df['genre'].apply(lambda x: x.split(', ') if isinstance(x, str) else [])"
   ]
  },
  {
   "cell_type": "code",
   "execution_count": 19,
   "id": "6ddefbfe-0e80-4bfa-a584-29ba7fcc9247",
   "metadata": {},
   "outputs": [],
   "source": [
    "# 2. Multi-label binarizer for genres\n",
    "mlb = MultiLabelBinarizer()\n",
    "genre_features = mlb.fit_transform(anime_df['genre'])"
   ]
  },
  {
   "cell_type": "code",
   "execution_count": 21,
   "id": "f33b5ea6-9866-4d2a-8915-6c457692719a",
   "metadata": {},
   "outputs": [],
   "source": [
    "# 3. One-hot encoding for 'type'\n",
    "ohe = OneHotEncoder(sparse_output=False)\n",
    "type_features = ohe.fit_transform(anime_df[['type']])"
   ]
  },
  {
   "cell_type": "code",
   "execution_count": 23,
   "id": "19aa5c33-5609-4234-b118-5b37c9acc8b3",
   "metadata": {},
   "outputs": [],
   "source": [
    "# 4. Numeric features\n",
    "numeric_features = anime_df[['episodes', 'rating', 'members']]"
   ]
  },
  {
   "cell_type": "code",
   "execution_count": 25,
   "id": "48e65e82-e951-4b52-8658-3d25626c1719",
   "metadata": {},
   "outputs": [],
   "source": [
    "# 5. Normalize numeric features\n",
    "scaler = MinMaxScaler()\n",
    "numeric_features_scaled = scaler.fit_transform(numeric_features)"
   ]
  },
  {
   "cell_type": "code",
   "execution_count": 27,
   "id": "a728bc54-fa06-4d96-ad71-f7e859fc0ee7",
   "metadata": {},
   "outputs": [],
   "source": [
    "# 6. Combine all features\n",
    "import numpy as np\n",
    "from scipy.sparse import hstack"
   ]
  },
  {
   "cell_type": "code",
   "execution_count": 29,
   "id": "ea94a7cf-dbd6-40b1-b924-ed8b892db618",
   "metadata": {},
   "outputs": [
    {
     "name": "stdout",
     "output_type": "stream",
     "text": [
      "Final feature matrix shape: (12294, 54)\n"
     ]
    }
   ],
   "source": [
    "feature_matrix = np.hstack((genre_features, type_features, numeric_features_scaled))\n",
    "\n",
    "print(\"Final feature matrix shape:\", feature_matrix.shape)"
   ]
  },
  {
   "cell_type": "markdown",
   "id": "e8bc1b34-e8c6-4327-828b-f1b724fa7cff",
   "metadata": {},
   "source": [
    "## Recommendation System:\n"
   ]
  },
  {
   "cell_type": "code",
   "execution_count": 31,
   "id": "639ffa99-33c6-412d-8465-9307d1e7a7a1",
   "metadata": {},
   "outputs": [],
   "source": [
    "from sklearn.metrics.pairwise import cosine_similarity\n",
    "import pandas as pd"
   ]
  },
  {
   "cell_type": "code",
   "execution_count": 33,
   "id": "b7796d1d-fd19-42bc-9d6c-1bc658222397",
   "metadata": {},
   "outputs": [],
   "source": [
    "# Step 1: Compute cosine similarity matrix\n",
    "cosine_sim_matrix = cosine_similarity(feature_matrix)"
   ]
  },
  {
   "cell_type": "code",
   "execution_count": 35,
   "id": "7d329c86-f8d7-463b-b9a8-749172e82805",
   "metadata": {},
   "outputs": [],
   "source": [
    "# Step 2: Build reverse lookup for anime titles to indices\n",
    "anime_indices = pd.Series(anime_df.index, index=anime_df['name']).drop_duplicates()"
   ]
  },
  {
   "cell_type": "code",
   "execution_count": 37,
   "id": "8c46c99a-bea0-4da3-bdd9-25d8fd0109d4",
   "metadata": {},
   "outputs": [],
   "source": [
    "# Step 3: Recommendation function\n",
    "def recommend_anime(title, top_n=10, min_similarity=0.5):\n",
    "    if title not in anime_indices:\n",
    "        return f\"Anime '{title}' not found in the dataset.\"\n",
    "    \n",
    "    idx = anime_indices[title]\n",
    "    sim_scores = list(enumerate(cosine_sim_matrix[idx]))\n",
    "    \n",
    "    # Filter out the anime itself and sort by similarity\n",
    "    sim_scores = sorted(sim_scores, key=lambda x: x[1], reverse=True)\n",
    "    sim_scores = [(i, score) for i, score in sim_scores if i != idx and score >= min_similarity]\n",
    "    \n",
    "    # Get top N recommendations\n",
    "    top_recommendations = sim_scores[:top_n]\n",
    "    \n",
    "    results = anime_df.iloc[[i for i, _ in top_recommendations]][['name', 'genre', 'type', 'rating']]\n",
    "    results['similarity'] = [score for _, score in top_recommendations]\n",
    "    \n",
    "    return results.reset_index(drop=True)"
   ]
  },
  {
   "cell_type": "code",
   "execution_count": 39,
   "id": "4d26c020-784a-4dd7-9fe7-2bc047ff3ebb",
   "metadata": {},
   "outputs": [
    {
     "data": {
      "text/html": [
       "<div>\n",
       "<style scoped>\n",
       "    .dataframe tbody tr th:only-of-type {\n",
       "        vertical-align: middle;\n",
       "    }\n",
       "\n",
       "    .dataframe tbody tr th {\n",
       "        vertical-align: top;\n",
       "    }\n",
       "\n",
       "    .dataframe thead th {\n",
       "        text-align: right;\n",
       "    }\n",
       "</style>\n",
       "<table border=\"1\" class=\"dataframe\">\n",
       "  <thead>\n",
       "    <tr style=\"text-align: right;\">\n",
       "      <th></th>\n",
       "      <th>name</th>\n",
       "      <th>genre</th>\n",
       "      <th>type</th>\n",
       "      <th>rating</th>\n",
       "      <th>similarity</th>\n",
       "    </tr>\n",
       "  </thead>\n",
       "  <tbody>\n",
       "    <tr>\n",
       "      <th>0</th>\n",
       "      <td>Fireball Charming</td>\n",
       "      <td>[Sci-Fi]</td>\n",
       "      <td>TV</td>\n",
       "      <td>6.940000</td>\n",
       "      <td>0.805503</td>\n",
       "    </tr>\n",
       "    <tr>\n",
       "      <th>1</th>\n",
       "      <td>Escha Chron</td>\n",
       "      <td>[Sci-Fi]</td>\n",
       "      <td>TV</td>\n",
       "      <td>6.473902</td>\n",
       "      <td>0.800088</td>\n",
       "    </tr>\n",
       "    <tr>\n",
       "      <th>2</th>\n",
       "      <td>Hoshi no Ko Poron</td>\n",
       "      <td>[Sci-Fi]</td>\n",
       "      <td>TV</td>\n",
       "      <td>6.760000</td>\n",
       "      <td>0.799925</td>\n",
       "    </tr>\n",
       "    <tr>\n",
       "      <th>3</th>\n",
       "      <td>Yuusei Kamen</td>\n",
       "      <td>[Sci-Fi]</td>\n",
       "      <td>TV</td>\n",
       "      <td>6.440000</td>\n",
       "      <td>0.799589</td>\n",
       "    </tr>\n",
       "    <tr>\n",
       "      <th>4</th>\n",
       "      <td>RoboDz</td>\n",
       "      <td>[Sci-Fi]</td>\n",
       "      <td>TV</td>\n",
       "      <td>5.000000</td>\n",
       "      <td>0.778780</td>\n",
       "    </tr>\n",
       "  </tbody>\n",
       "</table>\n",
       "</div>"
      ],
      "text/plain": [
       "                name     genre type    rating  similarity\n",
       "0  Fireball Charming  [Sci-Fi]   TV  6.940000    0.805503\n",
       "1        Escha Chron  [Sci-Fi]   TV  6.473902    0.800088\n",
       "2  Hoshi no Ko Poron  [Sci-Fi]   TV  6.760000    0.799925\n",
       "3       Yuusei Kamen  [Sci-Fi]   TV  6.440000    0.799589\n",
       "4             RoboDz  [Sci-Fi]   TV  5.000000    0.778780"
      ]
     },
     "execution_count": 39,
     "metadata": {},
     "output_type": "execute_result"
    }
   ],
   "source": [
    "# Example usage:\n",
    "recommend_anime(\"Steins;Gate\", top_n=5)"
   ]
  },
  {
   "cell_type": "markdown",
   "id": "fed18bb8-509e-47a5-b087-fb7d50df46ee",
   "metadata": {},
   "source": [
    "## Evaluation:\n"
   ]
  },
  {
   "cell_type": "code",
   "execution_count": 41,
   "id": "57821465-f475-4604-a040-1e76b37c85cb",
   "metadata": {},
   "outputs": [],
   "source": [
    "from sklearn.model_selection import train_test_split\n",
    "from sklearn.metrics import precision_score, recall_score, f1_score"
   ]
  },
  {
   "cell_type": "code",
   "execution_count": 43,
   "id": "ea12b9c1-f0b4-4bb2-81dc-7bb07dac663c",
   "metadata": {},
   "outputs": [],
   "source": [
    "# Step 1: Split the data\n",
    "train_df, test_df = train_test_split(anime_df, test_size=0.2, random_state=42)"
   ]
  },
  {
   "cell_type": "code",
   "execution_count": 45,
   "id": "85ca1db6-6bea-4576-8397-e6471c9867da",
   "metadata": {},
   "outputs": [],
   "source": [
    "# Step 2: Restrict similarity to only train items\n",
    "train_feature_matrix = feature_matrix[train_df.index]\n",
    "test_feature_matrix = feature_matrix[test_df.index]"
   ]
  },
  {
   "cell_type": "code",
   "execution_count": 47,
   "id": "226ffa06-61a9-4b16-a9b1-374b3dd3956c",
   "metadata": {},
   "outputs": [],
   "source": [
    "# Rebuild cosine sim between test items and all train items\n",
    "cosine_sim_eval = cosine_similarity(test_feature_matrix, train_feature_matrix)"
   ]
  },
  {
   "cell_type": "code",
   "execution_count": 49,
   "id": "af3239bb-8549-45b3-a72a-42296a4e62bb",
   "metadata": {},
   "outputs": [],
   "source": [
    "# Step 3: Evaluation loop\n",
    "def evaluate_system(top_n=5, threshold=0.5):\n",
    "    precision_list = []\n",
    "    recall_list = []\n",
    "\n",
    "    for i, test_index in enumerate(test_df.index):\n",
    "        test_genres = set(anime_df.loc[test_index, 'genre'])\n",
    "\n",
    "        # Get top-N similar anime from train set\n",
    "        sim_scores = list(enumerate(cosine_sim_eval[i]))\n",
    "        sim_scores = sorted(sim_scores, key=lambda x: x[1], reverse=True)\n",
    "        sim_scores = [(idx, score) for idx, score in sim_scores if score >= threshold]\n",
    "        top_recommendations = sim_scores[:top_n]\n",
    "        recommended_indices = [train_df.index[idx] for idx, _ in top_recommendations]\n",
    "\n",
    "        # Relevance: same genre = relevant\n",
    "        relevant_items = 0\n",
    "        for ridx in recommended_indices:\n",
    "            genres = set(anime_df.loc[ridx, 'genre'])\n",
    "            if test_genres.intersection(genres):\n",
    "                relevant_items += 1\n",
    "\n",
    "        # Precision = relevant / recommended\n",
    "        precision = relevant_items / top_n if top_n > 0 else 0\n",
    "        # Approximate true relevant items in training set (same genre anime)\n",
    "        true_relevant = sum(1 for idx in train_df.index \n",
    "                    if test_genres.intersection(set(anime_df.loc[idx, 'genre'])))\n",
    "\n",
    "        recall = relevant_items / true_relevant if true_relevant > 0 else 0\n",
    "\n",
    "\n",
    "        precision_list.append(precision)\n",
    "        recall_list.append(recall)\n",
    "\n",
    "    # Aggregate\n",
    "    avg_precision = sum(precision_list) / len(precision_list)\n",
    "    avg_recall = sum(recall_list) / len(recall_list)\n",
    "    f1 = 2 * (avg_precision * avg_recall) / (avg_precision + avg_recall + 1e-8)\n",
    "\n",
    "    return {\n",
    "        'Precision': round(avg_precision, 4),\n",
    "        'Recall': round(avg_recall, 4),\n",
    "        'F1-Score': round(f1, 4)\n",
    "    }"
   ]
  },
  {
   "cell_type": "code",
   "execution_count": 51,
   "id": "9896b190-f343-48b0-9297-e56e23b492e6",
   "metadata": {},
   "outputs": [
    {
     "data": {
      "text/plain": [
       "{'Precision': 0.9996, 'Recall': 0.003, 'F1-Score': 0.006}"
      ]
     },
     "execution_count": 51,
     "metadata": {},
     "output_type": "execute_result"
    }
   ],
   "source": [
    "# Example evaluation\n",
    "evaluate_system(top_n=5, threshold=0.5)"
   ]
  },
  {
   "cell_type": "markdown",
   "id": "2db965ed-f4a4-4cba-bc0d-90f2a52363f0",
   "metadata": {},
   "source": [
    "### Analyze the performance of the recommendation system and identify areas of improvement.\n",
    "\n",
    "\n",
    "What’s Going Right (Strengths)\n",
    " High Precision: The recommendations it does give are highly relevant — likely due to strong genre/type matching.\n",
    "\n",
    "Simplicity: Content-based filtering is easy to explain and interpret.\n",
    "\n",
    "No User Data Needed: You don't rely on user ratings or history — good for cold-start scenarios.\n",
    "\n",
    "What’s Going Wrong (Weaknesses)\n",
    "Extremely Low Recall\n",
    "\n",
    "You're recommending too few anime and missing many others that users might actually enjoy.\n",
    "\n",
    "The system is too conservative and narrow in its similarity criteria.\n",
    "\n",
    "Shallow Feature Usage\n",
    "\n",
    "You're only using genre, type, episodes, rating, and members — no semantic understanding of anime plot or context.\n",
    "\n",
    "Genre overlap is binary (either match or don’t), which ignores how similar genres really are.\n",
    "\n",
    "Lack of Diversity\n",
    "\n",
    "Recommendations are too \"safe\" — likely recommending only anime with exact genre/type matches.\n",
    "\n",
    "Users might get bored of seeing near-identical suggestions.\n",
    "\n",
    " Areas of Improvement\n",
    "1. Enhance Feature Representation\n",
    "Current\tSuggested\n",
    "Genre (string match)\tConvert to multi-hot vectors or embeddings\n",
    "Type, Episodes\tAdd more metadata like studio, year, themes\n",
    "No synopsis usage\tUse TF-IDF, BERT, or Doc2Vec on anime descriptions\n",
    "\n",
    "2. Use Semantic Similarity\n",
    "Vectorize anime descriptions/synopses with TF-IDF or transformers (e.g., Sentence-BERT).\n",
    "\n",
    "Combine description-based similarity with genre/type features for more nuanced recommendations.\n",
    "\n",
    "3. Lower Filtering Threshold\n",
    "Reduce min_similarity from 0.5 → 0.3 or less to include more candidates (boost recall).\n",
    "\n",
    "Or increase top_n to allow more diverse recommendations.\n",
    "\n",
    "4. Introduce Collaborative Filtering (if possible)\n",
    "If you can get user rating data:\n",
    "\n",
    "Use matrix factorization or k-NN collaborative filtering\n",
    "\n",
    "Combine it with content features for a hybrid system\n",
    "\n",
    "5. Use Weighted Similarity\n",
    "Not all features should be equal.\n",
    "\n",
    "Example: similarity = 0.7 * genre_similarity + 0.3 * description_similarity\n",
    "\n",
    "Or prioritize rating and popularity more heavily.\n"
   ]
  },
  {
   "cell_type": "markdown",
   "id": "63cae52d-ded9-4cac-a241-aaf2c65bc5fd",
   "metadata": {},
   "source": [
    "# Interview Questions:"
   ]
  },
  {
   "cell_type": "markdown",
   "id": "5dcf5e7f-253b-4291-9146-0304a83beab8",
   "metadata": {},
   "source": [
    "## 1. Can you explain the difference between user-based and item-based collaborative filtering?\n",
    "\n",
    "Both are types of memory-based collaborative filtering used in recommendation systems, but they differ in how similarity is calculated and applied.\n",
    "\n",
    "1.User-Based Collaborative Filtering (UBCF):\n",
    "Idea:\n",
    "Find users who are similar to the target user and recommend items that those similar users liked.\n",
    "\n",
    "How it works:\n",
    "\n",
    "Calculate similarity between users (e.g., using cosine similarity, Pearson correlation).\n",
    "\n",
    "For a target user, find the k most similar users.\n",
    "\n",
    "Recommend items that these similar users liked but the target user hasn’t rated yet.\n",
    "\n",
    "Example:\n",
    "\n",
    "If Alice and Bob have watched many of the same anime, and Bob liked \"Attack on Titan\", but Alice hasn’t seen it, the system recommends it to Alice.\n",
    "\n",
    "Pros:\n",
    "\n",
    "Captures user taste effectively.\n",
    "\n",
    "Personalized recommendations.\n",
    "\n",
    "Cons:\n",
    "\n",
    "Doesn’t scale well with many users.\n",
    "\n",
    "Sparse data (users rate few items) can hurt performance.\n",
    "\n",
    "\n",
    "\n",
    "2.Item-Based Collaborative Filtering (IBCF):\n",
    "Idea:\n",
    "Find items similar to what the user has already liked and recommend those.\n",
    "\n",
    "How it works:\n",
    "\n",
    "Calculate similarity between items based on user ratings.\n",
    "\n",
    "For a target user, look at items they've rated highly.\n",
    "\n",
    "Recommend similar items based on item-to-item similarity.\n",
    "\n",
    "Example:\n",
    "\n",
    "If Alice liked \"Fullmetal Alchemist: Brotherhood\", and users who liked that also liked \"Steins;Gate\", the system recommends \"Steins;Gate\" to Alice.\n",
    "\n",
    "Pros:\n",
    "\n",
    "More scalable than user-based.\n",
    "\n",
    "Item relationships are more stable over time.\n",
    "\n",
    "Cons:\n",
    "\n",
    "Less personalized if users have few ratings.\n",
    "\n",
    "Might miss niche preferences."
   ]
  },
  {
   "cell_type": "markdown",
   "id": "54060bec-2e08-4be7-9faf-82e626ef8c26",
   "metadata": {},
   "source": [
    "## 2. What is collaborative filtering, and how does it work?\n",
    "\n",
    "Collaborative Filtering is a popular technique used in recommendation systems to suggest items (like movies, anime, books) based on user behavior — not item content.\n",
    "\n",
    "It’s called “collaborative” because it relies on the opinions of many users to make recommendations for an individual.\n",
    "\n",
    "How It Works:\n",
    "Collaborative Filtering assumes:\n",
    "\n",
    "If two users liked similar items in the past, they will likely enjoy similar items in the future.\n",
    "\n",
    "If two items were liked by the same users, they are likely similar.\n",
    "\n",
    "Two Main Types:\n",
    "Type\tDescription\n",
    "User-Based Collaborative Filtering\tRecommends items liked by similar users.\n",
    "Item-Based Collaborative Filtering\tRecommends items similar to what the user already liked.\n",
    "\n"
   ]
  }
 ],
 "metadata": {
  "kernelspec": {
   "display_name": "Python [conda env:base] *",
   "language": "python",
   "name": "conda-base-py"
  },
  "language_info": {
   "codemirror_mode": {
    "name": "ipython",
    "version": 3
   },
   "file_extension": ".py",
   "mimetype": "text/x-python",
   "name": "python",
   "nbconvert_exporter": "python",
   "pygments_lexer": "ipython3",
   "version": "3.12.7"
  }
 },
 "nbformat": 4,
 "nbformat_minor": 5
}
